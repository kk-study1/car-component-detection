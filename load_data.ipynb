{
 "cells": [
  {
   "cell_type": "code",
   "execution_count": 3,
   "id": "4e6ccb8c",
   "metadata": {},
   "outputs": [
    {
     "name": "stdout",
     "output_type": "stream",
     "text": [
      "Ignoring unsupported parameter 'gt_field' for importer type <class 'fiftyone.utils.coco.COCODetectionDatasetImporter'>\n",
      " 100% |███████████████| 4643/4643 [12.5s elapsed, 0s remaining, 397.1 samples/s]      \n",
      "Name:        car_parts8\n",
      "Media type:  image\n",
      "Num samples: 4643\n",
      "Persistent:  False\n",
      "Tags:        []\n",
      "Sample fields:\n",
      "    id:         fiftyone.core.fields.ObjectIdField\n",
      "    filepath:   fiftyone.core.fields.StringField\n",
      "    tags:       fiftyone.core.fields.ListField(fiftyone.core.fields.StringField)\n",
      "    metadata:   fiftyone.core.fields.EmbeddedDocumentField(fiftyone.core.metadata.ImageMetadata)\n",
      "    detections: fiftyone.core.fields.EmbeddedDocumentField(fiftyone.core.labels.Detections)\n"
     ]
    },
    {
     "data": {
      "text/html": [
       "\n",
       "        <iframe\n",
       "            width=\"100%\"\n",
       "            height=\"800\"\n",
       "            src=\"http://localhost:5151/?notebook=True&subscription=fc2a07ae-0c14-4a11-8771-877bf41a5a15\"\n",
       "            frameborder=\"0\"\n",
       "            allowfullscreen\n",
       "        ></iframe>\n",
       "        "
      ],
      "text/plain": [
       "<IPython.lib.display.IFrame at 0x1e042c45c70>"
      ]
     },
     "metadata": {},
     "output_type": "display_data"
    }
   ],
   "source": [
    "import fiftyone as fo\n",
    "import fiftyone.utils.random as four\n",
    "\n",
    "iamge_dir = r'E:\\SC_search_longfaning\\car-component-detect\\dataset\\car_parts\\coco_format\\images'\n",
    "annotations_path = r'E:\\SC_search_longfaning\\car-component-detect\\dataset\\car_parts\\coco_format\\annotations\\annotations.json'\n",
    "# iamge_dir = r'C:\\Users\\ASUS\\Desktop\\test\\coco_format\\images'\n",
    "# annotations_path = r'C:\\Users\\ASUS\\Desktop\\test\\coco_format\\annotations\\annotations.json'\n",
    "\n",
    "dataset_name = 'car_parts8'\n",
    "if dataset_name in fo.list_datasets():\n",
    "    car_parts_dataset = fo.load_dataset(dataset_name)\n",
    "else:\n",
    "     car_parts_dataset=fo.Dataset.from_dir(\n",
    "        name=dataset_name,\n",
    "        data_path=iamge_dir,\n",
    "        labels_path=annotations_path,\n",
    "        dataset_type=fo.types.COCODetectionDataset,\n",
    "        gt_field='ground_truth'\n",
    "    )\n",
    "four.random_split(car_parts_dataset,split_fracs={'train':0.7,'test':0.2,'val':0.1})\n",
    "print(car_parts_dataset)\n",
    "# car_parts_dataset.evaluate_detections()\n",
    "# # # Annotate samples using Labelbox\n",
    "# # car_parts_dataset.annotate(backend=\"labelbox\")\n",
    "# #\n",
    "# # # Perform annotation work in Labelbox\n",
    "# #\n",
    "# # # Load annotations back into FiftyOne dataset\n",
    "# # car_parts_dataset.load_annotations()\n",
    "# #\n",
    "# # # Delete Labelbox tasks and annotation records\n",
    "# # car_parts_dataset.delete_annotation_records()\n",
    "#\n",
    "# car_parts_dataset.rename_sample_field('detections', 'ground_truth')\n",
    "session = fo.launch_app(car_parts_dataset)\n",
    "session.freeze()\n",
    "\n"
   ]
  },
  {
   "cell_type": "code",
   "execution_count": null,
   "id": "d58325ea",
   "metadata": {},
   "outputs": [],
   "source": []
  }
 ],
 "metadata": {
  "kernelspec": {
   "display_name": "pytorch",
   "language": "python",
   "name": "pytorch"
  },
  "language_info": {
   "codemirror_mode": {
    "name": "ipython",
    "version": 3
   },
   "file_extension": ".py",
   "mimetype": "text/x-python",
   "name": "python",
   "nbconvert_exporter": "python",
   "pygments_lexer": "ipython3",
   "version": "3.8.11"
  },
  "toc": {
   "base_numbering": 1,
   "nav_menu": {},
   "number_sections": true,
   "sideBar": true,
   "skip_h1_title": false,
   "title_cell": "Table of Contents",
   "title_sidebar": "Contents",
   "toc_cell": false,
   "toc_position": {},
   "toc_section_display": true,
   "toc_window_display": false
  }
 },
 "nbformat": 4,
 "nbformat_minor": 5
}
